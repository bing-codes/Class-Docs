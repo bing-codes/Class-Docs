{
 "cells": [
  {
   "cell_type": "markdown",
   "id": "63f134fc",
   "metadata": {},
   "source": [
    "This code is taken from two videos on Youtube (https://www.youtube.com/watch?v=Xjv1sY630Uc and https://www.youtube.com/watch?v=b5jt2bhSeXs) created by Tech With Tim. His code has become outdated, this is the updated version. "
   ]
  },
  {
   "cell_type": "code",
   "execution_count": null,
   "id": "e8af54eb",
   "metadata": {},
   "outputs": [],
   "source": [
    "#step one, pip install\n",
    "\n",
    "! pip install selenium"
   ]
  },
  {
   "cell_type": "code",
   "execution_count": null,
   "id": "121b3e4c",
   "metadata": {},
   "outputs": [],
   "source": [
    "#step two, import\n",
    "\n",
    "from selenium import webdriver\n",
    "from selenium.webdriver.chrome.service import Service\n",
    "from selenium.webdriver.common.keys import Keys\n",
    "from selenium.webdriver.common.by import By\n",
    "from selenium.webdriver.support.ui import WebDriverWait\n",
    "from selenium.webdriver.support import expected_conditions as EC"
   ]
  },
  {
   "cell_type": "code",
   "execution_count": null,
   "id": "26dd8c1e",
   "metadata": {},
   "outputs": [],
   "source": [
    "#step three, connect to webdriver\n",
    "#this code has been updated from the original version\n",
    "\n",
    "PATH = Service(\"C:\\Program Files (x86)\\chromedriver.exe\") \n",
    "#this is tied to the local path to file on your computer, must be upated \n",
    "#to the correct file path \n",
    "\n",
    "driver = webdriver.Chrome(service=PATH)\n",
    "\n",
    "practice_site = \"https://techwithtim.net\"\n",
    "driver.get(practice_site)\n",
    "\n",
    "#website can be run directly as an argument on line 11, I prefer to separate them"
   ]
  },
  {
   "cell_type": "code",
   "execution_count": null,
   "id": "a6ba9c56",
   "metadata": {},
   "outputs": [],
   "source": [
    "#step four, work with the website \n",
    "\n",
    "driver.get(practice_site) #opens up the website\n",
    "#driver.close() -- closes the current tab\n",
    "#driver.quit() -- closes the entire browser \n",
    "print(driver.title)\n",
    "\n",
    "#older version search = driver.find_element_by_name(\"search\")\n",
    "#https://stackoverflow.com/questions/72773206/selenium-python-attributeerror-webdriver-object-has-no-attribute-find-el\n",
    "search = driver.find_element(By.NAME, \"s\")\n",
    "search.clear() #clear any text in the search field just in case\n",
    "search.send_keys(\"test\")\n",
    "search.send_keys(Keys.RETURN)\n",
    "\n",
    "print(driver.page_source) # you can print entire html code with this, recommend using beautifulsoup instead\n",
    "\n",
    "\n",
    "#this block of code grabs the text of each article that pops up when you search\n",
    "#for \"test\" in the search bar, which we did on lines 9-12\n",
    "\n",
    "\n",
    "#try clause delays program to prevent errors \n",
    "\n",
    "try:\n",
    "    main = WebDriverWait(driver, 10).until(  \n",
    "    EC.presence_of_element_located((By.ID, \"main\")) #locates main ID\n",
    "    )\n",
    "    print(main.text)\n",
    "    \n",
    "    articles = main.find_elements(By.TAG_NAME, \"article\") #locates article tag\n",
    "    \n",
    "    for i in articles:\n",
    "        header = i.find_element(By.CLASS_NAME, \"entry-summary\") #locates entry-summary class \n",
    "        print(header.text)\n",
    "finally:\n",
    "        driver.quit()\n",
    "\n",
    "# main = driver.find_element(By.ID, \"main\") -- alternate way to isolate the main ID without try clause\n",
    "\n"
   ]
  }
 ],
 "metadata": {
  "kernelspec": {
   "display_name": "Python 3 (ipykernel)",
   "language": "python",
   "name": "python3"
  },
  "language_info": {
   "codemirror_mode": {
    "name": "ipython",
    "version": 3
   },
   "file_extension": ".py",
   "mimetype": "text/x-python",
   "name": "python",
   "nbconvert_exporter": "python",
   "pygments_lexer": "ipython3",
   "version": "3.9.7"
  }
 },
 "nbformat": 4,
 "nbformat_minor": 5
}
